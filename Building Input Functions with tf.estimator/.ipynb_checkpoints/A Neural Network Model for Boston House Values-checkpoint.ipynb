{
 "cells": [
  {
   "cell_type": "code",
   "execution_count": 1,
   "metadata": {},
   "outputs": [],
   "source": [
    "from __future__ import absolute_import\n",
    "from __future__ import division\n",
    "from __future__ import print_function\n",
    "\n",
    "import itertools\n",
    "\n",
    "import pandas as pd\n",
    "import tensorflow as tf\n",
    "\n",
    "tf.logging.set_verbosity(tf.logging.INFO)\n"
   ]
  },
  {
   "cell_type": "code",
   "execution_count": 2,
   "metadata": {},
   "outputs": [],
   "source": [
    "COLUMNS = [\"crim\", \"zn\", \"indus\", \"nox\", \"rm\", \"age\",\n",
    "           \"dis\", \"tax\", \"ptratio\", \"medv\"]\n",
    "FEATURES = [\"crim\", \"zn\", \"indus\", \"nox\", \"rm\",\n",
    "            \"age\", \"dis\", \"tax\", \"ptratio\"]\n",
    "LABEL = \"medv\"\n",
    "\n",
    "training_set = pd.read_csv(\"boston_train.csv\", skipinitialspace=True,\n",
    "                           skiprows=1, names=COLUMNS)\n",
    "test_set = pd.read_csv(\"boston_test.csv\", skipinitialspace=True,\n",
    "                       skiprows=1, names=COLUMNS)\n",
    "prediction_set = pd.read_csv(\"boston_predict.csv\", skipinitialspace=True,\n",
    "                             skiprows=1, names=COLUMNS)\n"
   ]
  },
  {
   "cell_type": "code",
   "execution_count": 3,
   "metadata": {
    "collapsed": true
   },
   "outputs": [],
   "source": [
    "feature_cols = [tf.feature_column.numeric_column(k) for k in FEATURES]\n"
   ]
  },
  {
   "cell_type": "code",
   "execution_count": 7,
   "metadata": {},
   "outputs": [
    {
     "name": "stdout",
     "output_type": "stream",
     "text": [
      "INFO:tensorflow:Using default config.\n",
      "INFO:tensorflow:Using config: {'_model_dir': '/tmp/boston_model', '_tf_random_seed': 1, '_save_summary_steps': 100, '_save_checkpoints_secs': 600, '_save_checkpoints_steps': None, '_session_config': None, '_keep_checkpoint_max': 5, '_keep_checkpoint_every_n_hours': 10000, '_log_step_count_steps': 100}\n"
     ]
    }
   ],
   "source": [
    "regressor = tf.estimator.DNNRegressor(feature_columns=feature_cols,\n",
    "                                      hidden_units=[100, 100],\n",
    "                                      model_dir=\"/tmp/boston_model\")\n"
   ]
  },
  {
   "cell_type": "code",
   "execution_count": 8,
   "metadata": {
    "collapsed": true
   },
   "outputs": [],
   "source": [
    "def get_input_fn(data_set, num_epochs=None, shuffle=True):\n",
    "  return tf.estimator.inputs.pandas_input_fn(\n",
    "      x=pd.DataFrame({k: data_set[k].values for k in FEATURES}),\n",
    "      y = pd.Series(data_set[LABEL].values),\n",
    "      num_epochs=num_epochs,\n",
    "      shuffle=shuffle)\n",
    "\n"
   ]
  },
  {
   "cell_type": "code",
   "execution_count": 9,
   "metadata": {},
   "outputs": [
    {
     "name": "stdout",
     "output_type": "stream",
     "text": [
      "INFO:tensorflow:Create CheckpointSaverHook.\n",
      "INFO:tensorflow:Restoring parameters from /tmp/boston_model\\model.ckpt-5000\n",
      "INFO:tensorflow:Saving checkpoints for 5001 into /tmp/boston_model\\model.ckpt.\n",
      "INFO:tensorflow:loss = 3572.49, step = 5001\n",
      "INFO:tensorflow:global_step/sec: 315.58\n",
      "INFO:tensorflow:loss = 3718.03, step = 5101 (0.318 sec)\n",
      "INFO:tensorflow:global_step/sec: 405.376\n",
      "INFO:tensorflow:loss = 4161.01, step = 5201 (0.246 sec)\n",
      "INFO:tensorflow:global_step/sec: 399.184\n",
      "INFO:tensorflow:loss = 3296.21, step = 5301 (0.250 sec)\n",
      "INFO:tensorflow:global_step/sec: 390.186\n",
      "INFO:tensorflow:loss = 5271.14, step = 5401 (0.257 sec)\n",
      "INFO:tensorflow:global_step/sec: 393.792\n",
      "INFO:tensorflow:loss = 2052.25, step = 5501 (0.253 sec)\n",
      "INFO:tensorflow:global_step/sec: 354.706\n",
      "INFO:tensorflow:loss = 2415.76, step = 5601 (0.286 sec)\n",
      "INFO:tensorflow:global_step/sec: 389.272\n",
      "INFO:tensorflow:loss = 6399.7, step = 5701 (0.253 sec)\n",
      "INFO:tensorflow:global_step/sec: 407.604\n",
      "INFO:tensorflow:loss = 2740.38, step = 5801 (0.245 sec)\n",
      "INFO:tensorflow:global_step/sec: 458.746\n",
      "INFO:tensorflow:loss = 2622.96, step = 5901 (0.220 sec)\n",
      "INFO:tensorflow:global_step/sec: 410.089\n",
      "INFO:tensorflow:loss = 1751.48, step = 6001 (0.242 sec)\n",
      "INFO:tensorflow:global_step/sec: 396.851\n",
      "INFO:tensorflow:loss = 2636.94, step = 6101 (0.252 sec)\n",
      "INFO:tensorflow:global_step/sec: 397.604\n",
      "INFO:tensorflow:loss = 2365.14, step = 6201 (0.251 sec)\n",
      "INFO:tensorflow:global_step/sec: 345.692\n",
      "INFO:tensorflow:loss = 3810.47, step = 6301 (0.290 sec)\n",
      "INFO:tensorflow:global_step/sec: 448.668\n",
      "INFO:tensorflow:loss = 4610.29, step = 6401 (0.223 sec)\n",
      "INFO:tensorflow:global_step/sec: 426.994\n",
      "INFO:tensorflow:loss = 3228.91, step = 6501 (0.233 sec)\n",
      "INFO:tensorflow:global_step/sec: 399.677\n",
      "INFO:tensorflow:loss = 5882.95, step = 6601 (0.251 sec)\n",
      "INFO:tensorflow:global_step/sec: 399.758\n",
      "INFO:tensorflow:loss = 3685.23, step = 6701 (0.250 sec)\n",
      "INFO:tensorflow:global_step/sec: 352.214\n",
      "INFO:tensorflow:loss = 6047.12, step = 6801 (0.286 sec)\n",
      "INFO:tensorflow:global_step/sec: 457.479\n",
      "INFO:tensorflow:loss = 2349.62, step = 6901 (0.218 sec)\n",
      "INFO:tensorflow:global_step/sec: 423.206\n",
      "INFO:tensorflow:loss = 3562.98, step = 7001 (0.236 sec)\n",
      "INFO:tensorflow:global_step/sec: 359.759\n",
      "INFO:tensorflow:loss = 5585.2, step = 7101 (0.278 sec)\n",
      "INFO:tensorflow:global_step/sec: 394.502\n",
      "INFO:tensorflow:loss = 4324.92, step = 7201 (0.252 sec)\n",
      "INFO:tensorflow:global_step/sec: 407.011\n",
      "INFO:tensorflow:loss = 2654.92, step = 7301 (0.247 sec)\n",
      "INFO:tensorflow:global_step/sec: 330.571\n",
      "INFO:tensorflow:loss = 4537.76, step = 7401 (0.303 sec)\n",
      "INFO:tensorflow:global_step/sec: 377.775\n",
      "INFO:tensorflow:loss = 1842.89, step = 7501 (0.266 sec)\n",
      "INFO:tensorflow:global_step/sec: 393.136\n",
      "INFO:tensorflow:loss = 1423.71, step = 7601 (0.252 sec)\n",
      "INFO:tensorflow:global_step/sec: 393.214\n",
      "INFO:tensorflow:loss = 5563.14, step = 7701 (0.255 sec)\n",
      "INFO:tensorflow:global_step/sec: 410.855\n",
      "INFO:tensorflow:loss = 7396.6, step = 7801 (0.245 sec)\n",
      "INFO:tensorflow:global_step/sec: 365.958\n",
      "INFO:tensorflow:loss = 5086.9, step = 7901 (0.271 sec)\n",
      "INFO:tensorflow:global_step/sec: 398.269\n",
      "INFO:tensorflow:loss = 4652.14, step = 8001 (0.251 sec)\n",
      "INFO:tensorflow:global_step/sec: 357.915\n",
      "INFO:tensorflow:loss = 4921.81, step = 8101 (0.279 sec)\n",
      "INFO:tensorflow:global_step/sec: 405.857\n",
      "INFO:tensorflow:loss = 3214.42, step = 8201 (0.245 sec)\n",
      "INFO:tensorflow:global_step/sec: 396.431\n",
      "INFO:tensorflow:loss = 4545.75, step = 8301 (0.254 sec)\n",
      "INFO:tensorflow:global_step/sec: 368.003\n",
      "INFO:tensorflow:loss = 3940.78, step = 8401 (0.270 sec)\n",
      "INFO:tensorflow:global_step/sec: 391.922\n",
      "INFO:tensorflow:loss = 9277.43, step = 8501 (0.256 sec)\n",
      "INFO:tensorflow:global_step/sec: 413.86\n",
      "INFO:tensorflow:loss = 3437.43, step = 8601 (0.243 sec)\n",
      "INFO:tensorflow:global_step/sec: 366.316\n",
      "INFO:tensorflow:loss = 5079.62, step = 8701 (0.272 sec)\n",
      "INFO:tensorflow:global_step/sec: 408.115\n",
      "INFO:tensorflow:loss = 3471.63, step = 8801 (0.245 sec)\n",
      "INFO:tensorflow:global_step/sec: 419.883\n",
      "INFO:tensorflow:loss = 6222.55, step = 8901 (0.238 sec)\n",
      "INFO:tensorflow:global_step/sec: 394.342\n",
      "INFO:tensorflow:loss = 3307.19, step = 9001 (0.254 sec)\n",
      "INFO:tensorflow:global_step/sec: 343.967\n",
      "INFO:tensorflow:loss = 2143.52, step = 9101 (0.290 sec)\n",
      "INFO:tensorflow:global_step/sec: 381.654\n",
      "INFO:tensorflow:loss = 2366.05, step = 9201 (0.262 sec)\n",
      "INFO:tensorflow:global_step/sec: 361.404\n",
      "INFO:tensorflow:loss = 6852.08, step = 9301 (0.277 sec)\n",
      "INFO:tensorflow:global_step/sec: 388.245\n",
      "INFO:tensorflow:loss = 6170.37, step = 9401 (0.259 sec)\n",
      "INFO:tensorflow:global_step/sec: 343.262\n",
      "INFO:tensorflow:loss = 4204.18, step = 9501 (0.290 sec)\n",
      "INFO:tensorflow:global_step/sec: 380.857\n",
      "INFO:tensorflow:loss = 5560.36, step = 9601 (0.263 sec)\n",
      "INFO:tensorflow:global_step/sec: 388.403\n",
      "INFO:tensorflow:loss = 5372.87, step = 9701 (0.268 sec)\n",
      "INFO:tensorflow:global_step/sec: 409.166\n",
      "INFO:tensorflow:loss = 2953.28, step = 9801 (0.234 sec)\n",
      "INFO:tensorflow:global_step/sec: 408.656\n",
      "INFO:tensorflow:loss = 4637.93, step = 9901 (0.244 sec)\n",
      "INFO:tensorflow:Saving checkpoints for 10000 into /tmp/boston_model\\model.ckpt.\n",
      "INFO:tensorflow:Loss for final step: 5409.96.\n"
     ]
    },
    {
     "data": {
      "text/plain": [
       "<tensorflow.python.estimator.canned.dnn.DNNRegressor at 0x27af0f20cf8>"
      ]
     },
     "execution_count": 9,
     "metadata": {},
     "output_type": "execute_result"
    }
   ],
   "source": [
    "regressor.train(input_fn=get_input_fn(training_set), steps=5000)\n",
    "\n"
   ]
  },
  {
   "cell_type": "code",
   "execution_count": 11,
   "metadata": {},
   "outputs": [
    {
     "name": "stdout",
     "output_type": "stream",
     "text": [
      "INFO:tensorflow:Starting evaluation at 2017-10-01-22:58:56\n",
      "INFO:tensorflow:Restoring parameters from /tmp/boston_model\\model.ckpt-10000\n",
      "INFO:tensorflow:Finished evaluation at 2017-10-01-22:58:56\n",
      "INFO:tensorflow:Saving dict for global step 10000: average_loss = 15.8673, global_step = 10000, loss = 1586.73\n"
     ]
    }
   ],
   "source": [
    "ev = regressor.evaluate(\n",
    "    input_fn=get_input_fn(test_set, num_epochs=1, shuffle=False))"
   ]
  },
  {
   "cell_type": "code",
   "execution_count": 12,
   "metadata": {},
   "outputs": [
    {
     "name": "stdout",
     "output_type": "stream",
     "text": [
      "Loss: 1586.725586\n"
     ]
    }
   ],
   "source": [
    "loss_score = ev[\"loss\"]\n",
    "print(\"Loss: {0:f}\".format(loss_score))\n"
   ]
  },
  {
   "cell_type": "code",
   "execution_count": 13,
   "metadata": {},
   "outputs": [
    {
     "name": "stdout",
     "output_type": "stream",
     "text": [
      "INFO:tensorflow:Restoring parameters from /tmp/boston_model\\model.ckpt-10000\n",
      "Predictions: [array([ 36.32978821], dtype=float32), array([ 20.81855392], dtype=float32), array([ 24.56627464], dtype=float32), array([ 35.34191132], dtype=float32), array([ 17.42002296], dtype=float32), array([ 19.57859993], dtype=float32)]\n"
     ]
    }
   ],
   "source": [
    "y = regressor.predict(\n",
    "    input_fn=get_input_fn(prediction_set, num_epochs=1, shuffle=False))\n",
    "# .predict() returns an iterator of dicts; convert to a list and print\n",
    "# predictions\n",
    "predictions = list(p[\"predictions\"] for p in itertools.islice(y, 6))\n",
    "print(\"Predictions: {}\".format(str(predictions)))\n"
   ]
  },
  {
   "cell_type": "code",
   "execution_count": null,
   "metadata": {
    "collapsed": true
   },
   "outputs": [],
   "source": []
  }
 ],
 "metadata": {
  "kernelspec": {
   "display_name": "Python 3",
   "language": "python",
   "name": "python3"
  },
  "language_info": {
   "codemirror_mode": {
    "name": "ipython",
    "version": 3
   },
   "file_extension": ".py",
   "mimetype": "text/x-python",
   "name": "python",
   "nbconvert_exporter": "python",
   "pygments_lexer": "ipython3",
   "version": "3.6.2"
  }
 },
 "nbformat": 4,
 "nbformat_minor": 2
}
